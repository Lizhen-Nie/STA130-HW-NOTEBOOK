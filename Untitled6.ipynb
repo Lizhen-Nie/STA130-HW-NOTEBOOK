{
 "cells": [
  {
   "cell_type": "markdown",
   "id": "bfcab869",
   "metadata": {},
   "source": [
    "1. The \"first pre-lecture video\" (above) describes hypothesis testing as addressing \"an idea that can be tested\", and the end of the video then discusses what our actual intended purpose in setting up a null hypothesis is. What is the key factor that makes the difference between ideas that can, and cannot be examined and tested statistically? What would you describe is the key \"criteria\" defining what a good null hypothesis is? And what is the difference between a null hypothesis and an alternative hypothesis in the context of hypothesis testing? Answer these questions with concise explanations in your own words.\n",
    "1)Key Factor for Testable Ideas:\n",
    "An idea can be tested statistically if it is quantifiable and measurable. It must involve variables that can be observed, collected, and analyzed objectively through data.\n",
    "\n",
    "2)Criteria for a Good Null Hypothesis:\n",
    "A good null hypothesis should:\n",
    "\n",
    "Be specific and testable (clearly measurable).\n",
    "Assume no effect or no difference (e.g., \"There is no relationship between X and Y\").\n",
    "Provide a baseline expectation that can be refuted or supported by evidence.\n",
    "Difference Between Null and Alternative Hypothesis:\n",
    "\n",
    "3)Null Hypothesis (H₀): Assumes there is no effect, relationship, or difference in the population. It reflects the status quo or baseline expectation.\n",
    "Alternative Hypothesis (H₁ or Ha): Posits that there is an effect, relationship, or difference. It is what the researcher aims to support if evidence from data rejects the null hypothesis.\n",
    "In essence, the null hypothesis is what we test to either reject or fail to reject, while the alternative hypothesis represents the outcome we believe might be true."
   ]
  },
  {
   "cell_type": "markdown",
   "id": "dc573fd7",
   "metadata": {},
   "source": [
    "2. Towards the end of the \"first pre-lecture\" video (above) it is stated that, \"It is important to note that outcomes of tests refer to the population parameter, rather than the sample statistic! As such, the result that we get is for the population.\" In terms of the distinctions between the concepts of 's, how would you describe what the sentence above means? Explain this concisely in your own words for a \"non-statsitical\" audience, defining the technical statistical terminology you use in your answer.\n",
    "1）Sample (𝑛): A smaller group selected from the population, like surveying 100 students to understand study habits in a university.\n",
    "2）Population (𝑁): The entire group we are interested in, like all students in the university.\n",
    "3）Sample statistic (e.g.,x): A number that describes the sample, such as the average study hours for the 100 surveyed students.\n",
    "4）Population parameter (e.g., 𝜇): A number that represents the true average for the entire population, which we usually don’t know directly.\n",
    "The point of hypothesis testing is to use the sample statistic (what we measure) to make an educated guess about the population parameter (the truth about the entire population). The outcome of the test is always framed in terms of what it suggests about the population, not just the sample."
   ]
  },
  {
   "cell_type": "markdown",
   "id": "af093e4a",
   "metadata": {},
   "source": [
    "3. The second \"Pre-lecture\" video (above) explains that we \"imagine a world where the null hypothesis is true\" when calculating a p-value? Explain why this is in your own words in a way that makes the most sense to you.\n",
    "A smaller p-value means that the data we observed would be very unlikely if the null hypothesis were true. In other words, if the null hypothesis (H₀) is correct (e.g., \"there is no difference or effect\"), then seeing the results we got—or more extreme ones—would be a rare occurrence just due to random chance.\n",
    "\n",
    "The smaller the p-value, the more it makes the null hypothesis seem unbelievable or \"ridiculous,\" because it suggests that it’s highly unlikely our data would have happened in a world where the null hypothesis is true. This is why a small p-value provides stronger evidence to reject the null hypothesis—it’s as if the data is telling us, \"It’s very unlikely that this outcome is just by chance.\""
   ]
  },
  {
   "cell_type": "markdown",
   "id": "f85d5184",
   "metadata": {},
   "source": [
    "4.  The second \"Pre-lecture\" video (above) suggests that a smaller p-value makes the null hypothesis look more ridiculous. Explain why this is in your own words in a way that makes the most sense to you, clarifying the meaning of any technical statistical terminology you use in your answer.\n",
    "It is highly unlikely that a neighbor would come to the house and put a leash on the dog, and H0 would be wrong to assume that the dog is innocent, because the dog put it on itself."
   ]
  },
  {
   "cell_type": "markdown",
   "id": "da5bdf86",
   "metadata": {},
   "source": [
    "5. Güntürkün (2003) recorded how kissing couples tilt their heads. 80 out of 124 couples, or 64.5% tilted their heads to the right. Simulate a p-value using a \"50/50 coin-flipping\" model for the assumption of the null hypothesis H0 that the population of humans don't have left or right head tilt tendencies when kissing, and use the table below to determine the level of evidence we have against H0.\n",
    "The simulation yielded a p-value of 0.00084, meaning that observing 80 or more couples tilting their heads to the right (out of 124) is extremely unlikely if there were no head-tilt preference (50/50 chance). Since the p-value is below 0.001, we have strong evidence against the null hypothesis, suggesting that couples likely prefer tilting to the right when kissing."
   ]
  },
  {
   "cell_type": "markdown",
   "id": "331b6a87",
   "metadata": {},
   "source": [
    "6. Can a smaller p-value definitively prove that the null hypothesis is false? Is it possible to definitively prove that Fido (from the \"second pre-lecture video\") is innocent using a p-value? Is it possible to difinitively prove that Fido is guilty using a p-value? How low or high does a p-value have to be to definitely prove one or the other? Explain this concisely in your own words.\n",
    "1)No, a small p-value does not definitively prove the null hypothesis (H₀) is false. It only indicates that the observed data would be highly unlikely if the null hypothesis were true, leading us to reject H₀. However, statistical testing deals with probabilities and uncertainty, so we can’t achieve absolute proof—only strong evidence against the null.\n",
    "2)No, failing to reject the null hypothesis (i.e., getting a large p-value) does not prove innocence. A large p-value simply suggests that the data is consistent with the null hypothesis, but it doesn’t guarantee the null is true—there could be other factors or limitations in the data.\n",
    "3)No, even a very small p-value cannot definitively prove guilt. It just shows that the observed result is unlikely under the assumption of innocence (H₀). This gives strong evidence against the null hypothesis, but it doesn’t prove guilt beyond doubt—there’s always a chance of an unusual outcome by luck or error.\n",
    "4)There is no p-value threshold that can definitively prove or disprove a hypothesis. The best we can do is:\n",
    "\n",
    "Low p-values (e.g., < 0.05): Provide evidence to reject H₀ (but not absolute proof).\n",
    "High p-values (e.g., > 0.05): Indicate we do not have enough evidence to reject H₀, but they don’t prove it true.\n"
   ]
  },
  {
   "cell_type": "code",
   "execution_count": null,
   "id": "aaa84417",
   "metadata": {},
   "outputs": [],
   "source": [
    "#7. In the second half of the \"first pre-lecture video\" the concept of a \"one sided\" (or \"one tailed\") test is introduced in contrast to a \"two sided\" (or \"two tailed\") test. Work with a ChatBot to adjust the code from \"Demo II of the Week 5 TUT\" (which revisits the \"Vaccine Data Analysis Assignment\" from Week 04 HW \"Question 8\") in order to compute a p-value for a \"one sided\" (or \"one tailed\") hypothesis test rather than the \"two sided\" (or \"two tailed\") version it provides. Describe (perhaps with the help of your ChatBot) what changed in the code; how this changes the interpretation of the hypothesis test; and whether or not we should indeed expect the p-value to be smaller in the \"one tailed\" versus \"two tailed\" analysis.\n",
    "from scipy.stats import ttest_1samp\n",
    "data = [75, 80, 85, 77, 72, 78, 83, 74]  # Sample data\n",
    "population_mean = 75  # Null hypothesis: population mean\n",
    "t_stat, p_value = ttest_1samp(data, population_mean)\n",
    "print(f\"Two-tailed p-value: {p_value}\")\n",
    "from scipy.stats import ttest_1samp\n",
    "data = [75, 80, 85, 77, 72, 78, 83, 74]  # Sample data\n",
    "population_mean = 75  # Null hypothesis: population mean\n",
    "t_stat, p_value_two_tailed = ttest_1samp(data, population_mean)\n",
    "if t_stat > 0:\n",
    "    p_value_one_tailed = p_value_two_tailed / 2\n",
    "else:\n",
    "    p_value_one_tailed = 1 - (p_value_two_tailed / 2)\n",
    "\n",
    "print(f\"One-tailed p-value: {p_value_one_tailed}\")\n",
    "\n",
    "#Modification:We divide the two-tailed p-value by 2 because we’re only interested in one direction (e.g., whether the sample mean is greater than the population mean).If the test statistic is negative (indicating the sample mean is lower), the p-value needs to be adjusted to reflect the opposite tail.\n",
    "#Interpretation Change:In a two-tailed test, the question is: Is the sample mean different from the population mean in either direction (higher or lower)?In a one-tailed test, the question becomes: Is the sample mean specifically higher (or lower) than the population mean?\n",
    "#Expecting a Smaller P-value:Yes, the p-value will typically be smaller in a one-tailed test because we’re only considering one direction of the distribution. Half of the \"probability mass\" from the two-tailed test is no longer included."
   ]
  },
  {
   "cell_type": "markdown",
   "id": "64428af3",
   "metadata": {},
   "source": [
    "8. Complete the following assignment\n",
    "In this analysis, we replicated Fisher’s Tea Experiment with 80 STA130 students, where each student guessed whether the milk or tea was poured first. 49 out of 80 students (61.25%) guessed correctly. To determine if this result shows real ability or is just due to random chance, we used a one-tailed binomial test with the null hypothesis that students have a 50% chance of guessing correctly (random guessing).\n",
    "\n",
    "The code tested the one-tailed hypothesis that the students' performance is better than chance. If the p-value is less than 0.05, we reject the null hypothesis and conclude that students likely have some real ability to detect the order. If the p-value is ≥ 0.05, we conclude that the performance is consistent with random guessing.\n",
    "\n",
    "This analysis helps determine whether the students’ correct guesses exceed what we would expect by chance alone, just as Fisher aimed to do in his original experiment with Dr. Bristol."
   ]
  },
  {
   "cell_type": "markdown",
   "id": "48ef7b48",
   "metadata": {},
   "source": []
  }
 ],
 "metadata": {
  "kernelspec": {
   "display_name": "Python 3 (ipykernel)",
   "language": "python",
   "name": "python3"
  },
  "language_info": {
   "codemirror_mode": {
    "name": "ipython",
    "version": 3
   },
   "file_extension": ".py",
   "mimetype": "text/x-python",
   "name": "python",
   "nbconvert_exporter": "python",
   "pygments_lexer": "ipython3",
   "version": "3.11.6"
  }
 },
 "nbformat": 4,
 "nbformat_minor": 5
}
