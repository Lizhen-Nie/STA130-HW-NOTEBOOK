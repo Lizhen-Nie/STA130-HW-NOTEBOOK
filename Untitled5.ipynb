{
 "cells": [
  {
   "cell_type": "markdown",
   "id": "7096bcbc",
   "metadata": {},
   "source": [
    "1. The \"Pre-lecture\" video (above) mentioned the \"standard error of the mean\" as being the \"standard deviation\" of the distribution bootstrapped means. What is the difference between the \"standard error of the mean\" and the \"standard deviation\" of the original data? What distinct ideas do each of these capture? Explain this concisely in your own words.\n",
    "The standard deviation of the original data measures the variability or dispersion of individual data points around the mean of that dataset. It reflects how spread out the data values are from the average.\n",
    "\n",
    "In contrast, the standard error of the mean (SEM) quantifies how much the sample mean is expected to vary from the true population mean. It is calculated by dividing the standard deviation of the original data by the square root of the sample size (n). The SEM becomes smaller as the sample size increases, indicating that larger samples provide a more reliable estimate of the population mean.\n",
    "\n",
    "In summary, while the standard deviation captures the spread of the individual data points, the standard error of the mean reflects the precision of the sample mean as an estimate of the population mean.\n",
    "\n",
    "SUM UP\n",
    "1)Standard Deviation (SD):\n",
    "Measures the variability of individual data points in a dataset.\n",
    "Reflects how much data points deviate from the mean.\n",
    "Larger SD indicates more spread, while smaller SD indicates points are closer to the mean.\n",
    "2)Standard Error of the Mean (SEM):\n",
    "Measures the dispersion of sample means around the population mean.\n",
    "Indicates how accurately the sample mean estimates the population mean.\n",
    "Smaller SEM means a more precise estimate of the population mean.\n",
    "3)Distinct Ideas:\n",
    "SD relates to the variability of individual observations.\n",
    "SEM relates to the reliability of the sample mean as an estimate of the population mean.\n",
    "\n",
    "https://chatgpt.com/share/66fdb6f4-de6c-8013-b825-75d52a2d5b1a"
   ]
  },
  {
   "cell_type": "markdown",
   "id": "1267f5ef",
   "metadata": {},
   "source": [
    "2. The \"Pre-lecture\" video (above) suggested that the \"standard error of the mean\" could be used to create a confidence interval, but didn't describe exactly how to do this. How can we use the \"standard error of the mean\" to create a 95% confidence interval which \"covers 95% of the bootstrapped sample means\"? Explain this concisely in your own words.\n",
    "1）Calculate the Mean: First, determine the mean of your original sample data.\n",
    "2）Determine the SEM: Calculate the standard error of the mean, which is the standard deviation of your original data divided by the square root of the sample size\n",
    "3）Find the Critical Value: For a 95% confidence interval, you will typically use a critical value from the standard normal distribution (Z-distribution) or the t-distribution, depending on your sample size. For large samples, this value is approximately 1.96.\n",
    "4）Calculate the Margin of Error: Multiply the SEM by the critical value to get the margin of error\n",
    "5）Construct the Confidence Interval: Add and subtract the margin of error from the sample mean to create the confidence interval\n",
    "\n",
    "\n",
    "SUM UP\n",
    "1)Standard Error of the Mean (SEM): \n",
    "We discussed how SEM can be used to create a 95% confidence interval for the mean of a sample.\n",
    "2)Steps to Create a Confidence Interval:\n",
    "Calculate the sample mean and standard deviation.\n",
    "Compute the SEM.\n",
    "Use the SEM and the critical value (Z-score) to construct the confidence interval.\n",
    "3)Example Calculation: \n",
    "An example was provided using sample data, demonstrating the calculation of the confidence interval.\n",
    "4)Bootstrapping: \n",
    "We also covered how bootstrapping can be employed to find a confidence interval by resampling the data and calculating empirical percentiles from the bootstrap means.\n",
    "\n",
    "https://chatgpt.com/share/66fdb7a6-d470-8013-8ab8-9ab6ee62429e"
   ]
  },
  {
   "cell_type": "markdown",
   "id": "2071a8ab",
   "metadata": {},
   "source": [
    "3. Creating the \"sample mean plus and minus about 2 times the standard error\" confidence interval addressed in the previous problem should indeed cover approximately 95% of the bootstrapped sample means. Alternatively, how do we create a 95% bootstrapped confidence interval using the bootstrapped means (without using their standard deviation to estimate the standard error of the mean)? Explain this concisely in your own words.\n",
    "1）Generate Bootstrapped Samples: Resample your original dataset with replacement multiple times (e.g., 1,000 or more times) to create bootstrapped samples.\n",
    "2）Calculate Bootstrapped Means: For each bootstrapped sample, calculate the mean. This will give you a distribution of bootstrapped means.\n",
    "3）Sort the Bootstrapped Means: Arrange the calculated bootstrapped means in ascending order.\n",
    "4）Identify Percentiles: To create a 95% confidence interval, determine the lower and upper bounds by identifying the 2.5th percentile and the 97.5th percentile of the sorted bootstrapped means.The lower bound is the mean at the 2.5th percentile, and the upper bound is the mean at the 97.5th percentile.\n",
    "5）Construct the Confidence Interval: The 95% bootstrapped confidence interval is then defined as Confidence Interval=(2.5th Percentile,97.5th Percentile)"
   ]
  },
  {
   "cell_type": "code",
   "execution_count": 1,
   "id": "c2d1a6ef",
   "metadata": {},
   "outputs": [
    {
     "name": "stdout",
     "output_type": "stream",
     "text": [
      "95% Bootstrap Confidence Interval for Mean: (5.142857142857143, 10.857142857142858)\n",
      "95% Bootstrap Confidence Interval for Median: (4.0, 12.0)\n"
     ]
    }
   ],
   "source": [
    "#4. The \"Pre-lecture\" video (above) mentioned that bootstrap confidence intervals could apply to other statistics of the sample, such as the \"median\". Work with a ChatBot to create code to produce a 95% bootstrap confidence interval for a population mean based on a sample that you have and comment the code to demonstrate how the code can be changed to produce a 95% bootstrap confidence interval for different population parameter (other than the population mean, such as the population median).\n",
    "import numpy as np\n",
    "def bootstrap_ci(data, num_bootstrap_samples=10000, confidence_level=0.95, statistic=np.mean):\n",
    "    n = len(data)\n",
    "    bootstrap_samples = np.random.choice(data, (num_bootstrap_samples, n), replace=True)\n",
    "    bootstrap_statistics = np.array([statistic(sample) for sample in bootstrap_samples])\n",
    "    lower_percentile = (1 - confidence_level) / 2 * 100\n",
    "    upper_percentile = (1 + confidence_level) / 2 * 100\n",
    "    lower_bound = np.percentile(bootstrap_statistics, lower_percentile)\n",
    "    upper_bound = np.percentile(bootstrap_statistics, upper_percentile)\n",
    "    return lower_bound, upper_bound\n",
    "data = np.array([2, 4, 6, 8, 10, 12, 14])  # Example sample data\n",
    "mean_ci = bootstrap_ci(data, statistic=np.mean)\n",
    "print(\"95% Bootstrap Confidence Interval for Mean:\", mean_ci)\n",
    "median_ci = bootstrap_ci(data, statistic=np.median)\n",
    "print(\"95% Bootstrap Confidence Interval for Median:\", median_ci)"
   ]
  },
  {
   "cell_type": "markdown",
   "id": "041f93ab",
   "metadata": {},
   "source": [
    "5. The previous question addresses making a confidence interval for a population parameter based on a sample statistic. Why do we need to distinguish between the role of the popualation parameter and the sample sample statistic when it comes to confidence intervals? Explain this concisely in your own words.\n",
    "Definitions:\n",
    "\n",
    "Population Parameter: This is a fixed value that describes a characteristic of a population (e.g., the true mean or proportion). It is usually unknown and is what researchers are trying to estimate.\n",
    "Sample Statistic: This is a value calculated from a sample drawn from the population (e.g., the sample mean or sample proportion). It serves as an estimate of the corresponding population parameter.\n",
    "Estimation:\n",
    "\n",
    "The sample statistic is used to estimate the population parameter because the population is often too large or inaccessible for complete data collection. The sample provides a manageable way to gather data and make inferences about the population.\n",
    "Variability:\n",
    "\n",
    "Sample statistics can vary from one sample to another due to random sampling error. This variability means that any single sample statistic may not accurately reflect the population parameter. Confidence intervals provide a range of values that likely contain the population parameter, taking this variability into account.\n",
    "Interval Construction:\n",
    "\n",
    "Confidence intervals are constructed around the sample statistic to account for uncertainty. The width of the interval is influenced by the variability in the sample, the sample size, and the desired confidence level. By acknowledging the distinction, researchers can better understand the range of values within which the population parameter may fall.\n",
    "Statistical Inference:\n",
    "\n",
    "The goal of statistical inference is to make conclusions about a population based on sample data. Understanding the difference between the population parameter and sample statistic is essential for evaluating the reliability of these inferences. Confidence intervals help quantify the uncertainty associated with estimates derived from sample statistics.\n",
    "Interpretation:\n",
    "\n",
    "When interpreting a confidence interval, it's important to remember that it reflects the uncertainty about the population parameter based on the sample data. For instance, a 95% confidence interval means that if we were to take many samples and construct confidence intervals for each, approximately 95% of those intervals would contain the true population parameter.\n",
    "\n",
    "SUM UP\n",
    "Confidence Intervals: \n",
    "We discussed the importance of distinguishing between population parameters (fixed, unknown values representing a population characteristic) and sample statistics (calculated from a sample) when constructing confidence intervals.\n",
    "\n",
    "Key Points:\n",
    "\n",
    "Estimation: Sample statistics estimate population parameters due to the impracticality of measuring entire populations.\n",
    "Variability: Sample statistics can vary; confidence intervals account for this variability, providing a range where the population parameter likely falls.\n",
    "Interval Construction: Confidence intervals are constructed around sample statistics to reflect uncertainty, influenced by sample size and desired confidence level.\n",
    "Statistical Inference: Understanding the difference is essential for evaluating the reliability of inferences made from sample data.\n",
    "Interpretation: Confidence intervals indicate uncertainty about the population parameter, with a specific confidence level indicating how often intervals would capture the parameter if repeated sampling were done.\n",
    "\n",
    "https://chatgpt.com/share/66fdba2a-0090-8013-b76b-580da90bbffd"
   ]
  },
  {
   "cell_type": "markdown",
   "id": "f9521c90",
   "metadata": {},
   "source": [
    "6. Provide written answers explaining the answers to the following questions in an informal manner of a conversation with a friend with little experience with statistics.\n",
    "\n",
    "1)What is the process of bootstrapping?\n",
    "you’re trying to figure out how much people in a neighborhood typically spend on coffee, but you only have data from a handful of people, like 30 of them. You don’t really want to assume too much about the whole neighborhood based just on those 30, but that’s all you’ve got to work with.\n",
    "\n",
    "This is where bootstrapping comes in handy! It’s a simple way to make the most of the limited data you have. Here’s how it works: you take your small sample and, instead of going out to get more data (which is often not possible or too costly), you \"resample\" from your original data. Basically, you pretend that your sample is like a mini-universe, and you keep picking random data points from it over and over again, even allowing repeats.\n",
    "\n",
    "Think of it like having 30 marbles in a bag, each representing a person’s coffee spending. You keep picking 30 marbles out of the bag, but after picking one, you put it back in so it could be picked again. You do this over and over, maybe thousands of times, and each time you calculate whatever statistic you’re interested in—like the average spending. This gives you a whole lot of new data points (averages from each of those resamples), which helps you understand what your original statistic might look like if you could somehow sample the whole neighborhood.\n",
    "\n",
    "This process helps you estimate things like the average, variability, and even construct confidence intervals for your statistic. It’s a clever trick because you’re taking advantage of the limited data you have and using it creatively to understand more about the broader picture.\n",
    "\n",
    "\n",
    "2)What is the main purpose of bootstrapping?\n",
    "The main purpose of bootstrapping is to estimate the properties of a population—like the average, variance, or confidence intervals—when you don’t have access to a large dataset or you can’t make strong assumptions about the underlying distribution.\n",
    "\n",
    "Basically, when you’ve got a small sample and you’re worried about whether that sample accurately reflects the entire population, bootstrapping helps you figure out how reliable your sample-based estimates are. By resampling from your data and calculating statistics repeatedly, bootstrapping allows you to get a sense of how those statistics might vary, giving you more insight into the accuracy and stability of your original estimates.\n",
    "\n",
    "It’s especially useful because it doesn’t require you to assume that your data follows any particular distribution (like normal distribution). Instead, you just let the data speak for itself by using what you've got to simulate all possible outcomes. It’s kind of like making the best out of a small deck of cards and figuring out the whole game from just that.\n",
    "\n",
    "\n",
    "3)If you had a (hypothesized) guess about what the average of a population was, and you had a sample of size n from that population, how could you use bootstrapping to assess whether or not your (hypothesized) guess might be plausible?\n",
    "1）Start With Your Sample: Take your original sample of n values from the population. This sample is all the data you have, and it’s what you’re going to work with to test your hypothesis about the average.\n",
    "\n",
    "2）Bootstrap Resampling: Use bootstrapping to generate lots of \"new\" samples. To do this, randomly resample from your original sample n times, with replacement, to create a new dataset of the same size. Repeat this process many times—typically thousands of times—so you end up with a bunch of these resampled datasets. Each one looks like a slightly different version of your original sample.\n",
    "\n",
    "3）Calculate the Average for Each Resample: For each resampled dataset, calculate the average value. You’ll end up with a large distribution of averages, which represent what the average might look like if you could sample repeatedly from your original dataset.\n",
    "\n",
    "4）Compare to Your Hypothesized Average (H): Now that you have this distribution of average values, you can compare your hypothesized average H to the bootstrapped distribution. You want to see how often your H falls within this range of bootstrapped averages.\n",
    "\n",
    "If H falls comfortably within the bulk of the bootstrapped averages, it suggests that your guess is plausible because it’s consistent with the data you’ve collected.\n",
    "If H is way outside the range of the bootstrapped averages, that’s a sign that your guess might not be correct because it doesn't align with the data you have."
   ]
  },
  {
   "cell_type": "markdown",
   "id": "8e00655e",
   "metadata": {},
   "source": [
    "7. The \"Pre-lecture\" video (above) introduced hypothesis testing by saying that \"the confidence interval covers zero, so we cannot reject the hypothesis that the drug is [on average] not doing anything\". This conclusion could be referred to as \"failing to reject the null hypothesis\", where the term \"null\" refers to the concept of \"no effect [on average]\". Why does a confidence interval overlapping zero \"fail to reject the null hypothesis\" when the observed sample mean statistic itself is not zero? Alternatively, what would lead to the opposite conclusion in this context; namely, instead choosing \"to reject the null hypothesis\n",
    "1）Fail to reject the null hypothesis: The confidence interval includes zero, indicating we don’t have enough evidence to confidently say the drug has an effect.\n",
    "2）Reject the null hypothesis: The confidence interval doesn’t include zero, giving us enough evidence to conclude that the drug likely has an effect (either positive or negative)."
   ]
  },
  {
   "cell_type": "code",
   "execution_count": 10,
   "id": "752a8fd8",
   "metadata": {},
   "outputs": [
    {
     "name": "stdout",
     "output_type": "stream",
     "text": [
      "   PatientID  Age Gender  InitialHealthScore  FinalHealthScore  \\\n",
      "0          1   45      M                  84                86   \n",
      "1          2   34      F                  78                86   \n",
      "2          3   29      M                  83                80   \n",
      "3          4   52      F                  81                86   \n",
      "4          5   37      M                  81                84   \n",
      "5          6   41      F                  80                86   \n",
      "6          7   33      M                  79                86   \n",
      "7          8   48      F                  85                82   \n",
      "8          9   26      M                  76                83   \n",
      "9         10   39      F                  83                84   \n",
      "\n",
      "   HealthScoreDifference  \n",
      "0                      2  \n",
      "1                      8  \n",
      "2                     -3  \n",
      "3                      5  \n",
      "4                      3  \n",
      "5                      6  \n",
      "6                      7  \n",
      "7                     -3  \n",
      "8                      7  \n",
      "9                      1  \n"
     ]
    }
   ],
   "source": [
    "#8. Complete the following assignment.Vaccine Data Analysis Assignment\n",
    "\n",
    "import pandas as pd\n",
    "import numpy as np\n",
    "import matplotlib.pyplot as plt\n",
    "np.random.seed(42)\n",
    "PatientID = [1, 2, 3, 4, 5, 6, 7, 8, 9, 10]\n",
    "Age = [45, 34, 29, 52, 37, 41, 33, 48, 26, 39]\n",
    "Gender = [\"M\", \"F\", \"M\", \"F\", \"M\", \"F\", \"M\", \"F\", \"M\", \"F\"]\n",
    "InitialHealthScore = [84, 78, 83, 81, 81, 80, 79, 85, 76, 83]\n",
    "FinalHealthScore = [86, 86, 80, 86, 84, 86, 86, 82, 83, 84]\n",
    "data = pd.DataFrame({\n",
    "    \"PatientID\": PatientID,\n",
    "    \"Age\": Age,\n",
    "    \"Gender\": Gender,\n",
    "    \"InitialHealthScore\": InitialHealthScore,\n",
    "    \"FinalHealthScore\": FinalHealthScore\n",
    "})\n",
    "csv_path = \"vaccine_data.csv\"\n",
    "data.to_csv(csv_path, index=False)\n",
    "df = pd.read_csv(csv_path)\n",
    "df['HealthScoreDifference'] = df['FinalHealthScore'] - df['InitialHealthScore']\n",
    "print(df)\n"
   ]
  },
  {
   "cell_type": "markdown",
   "id": "f400a389",
   "metadata": {},
   "source": [
    "9. Have you reviewed the course wiki-textbook and interacted with a ChatBot (or, if that wasn't sufficient, real people in the course piazza discussion board or TA office hours) to help you understand all the material in the tutorial and lecture that you didn't quite follow when you first saw it?\n",
    "Yes                                                          "
   ]
  }
 ],
 "metadata": {
  "kernelspec": {
   "display_name": "Python 3 (ipykernel)",
   "language": "python",
   "name": "python3"
  },
  "language_info": {
   "codemirror_mode": {
    "name": "ipython",
    "version": 3
   },
   "file_extension": ".py",
   "mimetype": "text/x-python",
   "name": "python",
   "nbconvert_exporter": "python",
   "pygments_lexer": "ipython3",
   "version": "3.11.6"
  }
 },
 "nbformat": 4,
 "nbformat_minor": 5
}
